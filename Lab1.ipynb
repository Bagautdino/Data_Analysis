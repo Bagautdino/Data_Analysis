{
  "nbformat": 4,
  "nbformat_minor": 0,
  "metadata": {
    "colab": {
      "provenance": [],
      "collapsed_sections": [],
      "include_colab_link": true
    },
    "kernelspec": {
      "display_name": "Python 3",
      "language": "python",
      "name": "python3"
    },
    "language_info": {
      "codemirror_mode": {
        "name": "ipython",
        "version": 3
      },
      "file_extension": ".py",
      "mimetype": "text/x-python",
      "name": "python",
      "nbconvert_exporter": "python",
      "pygments_lexer": "ipython3",
      "version": "3.7.4"
    }
  },
  "cells": [
    {
      "cell_type": "markdown",
      "metadata": {
        "id": "view-in-github",
        "colab_type": "text"
      },
      "source": [
        "<a href=\"https://colab.research.google.com/github/Bagautdino/LAB1/blob/main/Lab1.ipynb\" target=\"_parent\"><img src=\"https://colab.research.google.com/assets/colab-badge.svg\" alt=\"Open In Colab\"/></a>"
      ]
    },
    {
      "cell_type": "markdown",
      "metadata": {
        "id": "BsNwjQDRfmLY"
      },
      "source": [
        "# Задание 1 (numpy + matplotlib)"
      ]
    },
    {
      "cell_type": "markdown",
      "metadata": {
        "id": "wu6r1-s7fmLe"
      },
      "source": [
        "---"
      ]
    },
    {
      "cell_type": "markdown",
      "metadata": {
        "id": "zxRIdPO9gYyX"
      },
      "source": [
        "Напишите программу, которая будет решать систему линейных уравнений вида:\n",
        "\n",
        "\\begin{matrix} a_{11}x+a_{12}y=b_{1}&(1) \\\\ a_{21}x+a_{22}y=b_{2} &(2) \\end{matrix}\n",
        "​\t\n",
        "* На вход программа должна принимать 2 строки (т.е. должен быть реализован ввод с клавиатуры). Каждая строка содержит 3 действительных числа через пробел: коэффициенты a и b.\n",
        "* Систему уравнений необходимо решить матричным способом. Предусмотрите случаи, когда решения есть, решений нет, решений бесконечно много. Выведите ответ. Покажите решение на графике. Если решения есть, постройте график и точкой отметьте решение (если оно одно, например, функцией [`scatter`](https://matplotlib.org/stable/api/_as_gen/matplotlib.pyplot.scatter.html)). ГРАФИК СТРОИТСЯ ВО ВСЕХ ТРЕХ РАССМАТРИВАЕМЫХ СЛУЧАЯХ."
      ]
    },
    {
      "cell_type": "code",
      "metadata": {
        "id": "6sxlcLbVlrjl",
        "outputId": "0ee41219-4f54-4748-aeb7-b74acc157a1f",
        "colab": {
          "base_uri": "https://localhost:8080/"
        }
      },
      "source": [
        "a11 = int(input(\"Введите a11=\"))\n",
        "a12 = int(input(\"Введите a12=\"))\n",
        "b1 = int(input(\"Введите b1=\"))\n",
        "a21 = int(input(\"Введите a21=\"))\n",
        "a22 = int(input(\"Введите a22=\"))\n",
        "b2 = int(input(\"Введите b2=\"))"
      ],
      "execution_count": 98,
      "outputs": [
        {
          "name": "stdout",
          "output_type": "stream",
          "text": [
            "Введите a11=1\n",
            "Введите a12=2\n",
            "Введите b1=3\n",
            "Введите a21=4\n",
            "Введите a22=5\n",
            "Введите b2=6\n"
          ]
        }
      ]
    },
    {
      "cell_type": "code",
      "source": [
        "import numpy as np\n",
        "from matplotlib import pyplot as plt\n",
        "from scipy.linalg import solve\n",
        "e1 = np.array([[a11, a12], [a21, a22]])\n",
        "e2 = np.array([b1, b2]).reshape((2,1))\n",
        "e3 = np.array([[a11, a12], [a21, a22], [b1,b2]])\n",
        "rank1 = np.linalg.matrix_rank(e1)\n",
        "rank2 = np.linalg.matrix_rank(e2)\n",
        "rank3 = np.linalg.matrix_rank(e3)\n",
        "if rank1 == rank3 and rank3 < 2:\n",
        "  print(\"бесконечное количество решений\")\n",
        "  plt.plot(e1,e2)\n",
        "  plt.show\n",
        "\n",
        "\n",
        "elif rank1 < rank3 and rank3 == 2:\n",
        "  print(\"решений нет\")\n",
        "else: \n",
        "  res = solve(e1,e2)\n",
        "  print(res)\n"
      ],
      "metadata": {
        "id": "VyLqTCaVNMmx",
        "outputId": "c8aef172-2c5c-47a8-c676-af5c7631e72e",
        "colab": {
          "base_uri": "https://localhost:8080/"
        }
      },
      "execution_count": 58,
      "outputs": [
        {
          "output_type": "stream",
          "name": "stdout",
          "text": [
            "решений нет\n"
          ]
        }
      ]
    },
    {
      "cell_type": "code",
      "source": [
        "from numpy.core.function_base import linspace\n",
        "from scipy.linalg.misc import LinAlgError\n",
        "import numpy as np\n",
        "from matplotlib import pyplot as plt\n",
        "from scipy.linalg import solve\n",
        "e1 = np.array([[a11, a12], [a21, a22]])\n",
        "e2 = np.array([b1, b2]).reshape((2,1))\n",
        "x= list(range(-150,150))\n",
        "y1= [(b1-a11*x1)/a12 for x1 in x]\n",
        "y2= [(b2-a21*x2)/a22 for x2 in x]\n",
        "fig, ax = plt.subplots()\n",
        "try:\n",
        "  res = solve(e1,e2)\n",
        "  print(\"Решение: \", res)\n",
        "  plt.plot(x, y1)\n",
        "  plt.plot(x, y2)\n",
        "  ax.scatter(res[0], res[1])\n",
        "except LinAlgError as lae:\n",
        "  print(\"Если решений нет - графики параллельны, если решений бесконечно - графики идентичные\")\n",
        "  plt.plot(x,y1)\n",
        "  plt.plot(x,y2)\n"
      ],
      "metadata": {
        "id": "FPelMumOIp5m",
        "outputId": "32707ed8-dc71-44a5-ae1a-ced334f477b8",
        "colab": {
          "base_uri": "https://localhost:8080/",
          "height": 300
        }
      },
      "execution_count": 100,
      "outputs": [
        {
          "output_type": "stream",
          "name": "stdout",
          "text": [
            "Решение:  [[-1.]\n",
            " [ 2.]]\n"
          ]
        },
        {
          "output_type": "display_data",
          "data": {
            "text/plain": [
              "<Figure size 432x288 with 1 Axes>"
            ],
            "image/png": "[encoded data removed]"
          },
          "metadata": {
            "needs_background": "light"
          }
        }
      ]
    },
    {
      "cell_type": "markdown",
      "metadata": {
        "id": "efml9GzISC9Q"
      },
      "source": [
        "# Задание 2 (pytorch + matplotlib)"
      ]
    },
    {
      "cell_type": "markdown",
      "metadata": {
        "id": "_hy7PFz031Wx"
      },
      "source": [
        "Пусть $f(x) = \\sin(x) * x$. Постройте график $f(x)$ и $\\frac{df(x)}{dx}$, для расчета производных воспользуйтесь методом `backward()` и matplotlib для построения графиков."
      ]
    },
    {
      "cell_type": "code",
      "metadata": {
        "id": "GPjLHMGNK_oG"
      },
      "source": [
        "# PUT YOUR CODE HERE"
      ],
      "execution_count": null,
      "outputs": []
    }
  ]
}